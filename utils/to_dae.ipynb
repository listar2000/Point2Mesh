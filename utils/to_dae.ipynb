{
 "cells": [
  {
   "cell_type": "code",
   "execution_count": 144,
   "metadata": {},
   "outputs": [],
   "source": [
    "import numpy as np\n",
    "import collada"
   ]
  },
  {
   "cell_type": "code",
   "execution_count": 145,
   "metadata": {},
   "outputs": [],
   "source": [
    "f = open(\"point.txt\", \"r\")\n",
    "vertices = []"
   ]
  },
  {
   "cell_type": "code",
   "execution_count": 146,
   "metadata": {},
   "outputs": [],
   "source": [
    "with open('point.txt') as f:\n",
    "    for line in f:\n",
    "        data = line.split()\n",
    "        vertices.append(np.array(data))"
   ]
  },
  {
   "cell_type": "code",
   "execution_count": 147,
   "metadata": {},
   "outputs": [],
   "source": [
    "# print(vertices)"
   ]
  },
  {
   "cell_type": "code",
   "execution_count": 148,
   "metadata": {},
   "outputs": [],
   "source": [
    "f = open(\"normal.txt\", \"r\")\n",
    "normals = []"
   ]
  },
  {
   "cell_type": "code",
   "execution_count": 149,
   "metadata": {},
   "outputs": [],
   "source": [
    "with open('normal.txt') as f:\n",
    "    for line in f:\n",
    "        data = line.split()\n",
    "        normals.append(np.array(data))"
   ]
  },
  {
   "cell_type": "code",
   "execution_count": 150,
   "metadata": {},
   "outputs": [],
   "source": [
    "# print(normals)"
   ]
  },
  {
   "cell_type": "code",
   "execution_count": 151,
   "metadata": {},
   "outputs": [],
   "source": [
    "f = open(\"triangle.txt\", \"r\")\n",
    "triangles = []"
   ]
  },
  {
   "cell_type": "code",
   "execution_count": 152,
   "metadata": {},
   "outputs": [],
   "source": [
    "with open('triangle.txt') as f:\n",
    "    for line in f:\n",
    "        data = line.split()\n",
    "        triangles.append(np.array(data))"
   ]
  },
  {
   "cell_type": "code",
   "execution_count": 153,
   "metadata": {},
   "outputs": [],
   "source": [
    "# print(triangles)"
   ]
  },
  {
   "cell_type": "code",
   "execution_count": 154,
   "metadata": {},
   "outputs": [],
   "source": [
    "fname = \"bun.dae\"\n",
    "t_vertices = np.array(vertices, dtype = np.float)\n",
    "t_normals = np.array(normals, dtype = np.float)\n",
    "triangle_indices = np.array(triangles, dtype=np.int32)"
   ]
  },
  {
   "cell_type": "code",
   "execution_count": 155,
   "metadata": {},
   "outputs": [],
   "source": [
    "# print(triangle_indices)"
   ]
  },
  {
   "cell_type": "code",
   "execution_count": 156,
   "metadata": {},
   "outputs": [],
   "source": [
    "mesh = Collada()\n",
    "effect = material.Effect(\"effect0\", [], \"phong\", diffuse=(1,0,0), specular=(0,1,0))\n",
    "mat = material.Material(\"material0\", \"mymaterial\", effect)\n",
    "mesh.effects.append(effect)\n",
    "mesh.materials.append(mat)\n",
    "\n",
    "vert_floats = np.array(t_vertices).flatten()\n",
    "normal_floats = np.array(t_normals).flatten()\n",
    "\n",
    "vert_src = source.FloatSource(\"cubeverts-array\", np.array(vert_floats), ('X', 'Y', 'Z'))\n",
    "normal_src = source.FloatSource(\"cubenormals-array\", np.array(normal_floats), ('X', 'Y', 'Z'))\n",
    "\n",
    "geom = geometry.Geometry(mesh, \"geometry0\", \"mycube\", [vert_src, normal_src])\n",
    "\n",
    "input_list = source.InputList()\n",
    "input_list.addInput(0, 'VERTEX', \"#cubeverts-array\")\n",
    "input_list.addInput(1, 'NORMAL', \"#cubenormals-array\")\n",
    "\n",
    "indices = np.array([triangle_indices,triangle_indices]).flatten()\n",
    "\n",
    "\n",
    "triset = geom.createTriangleSet(indices, input_list, \"materialref\")\n",
    "geom.primitives.append(triset)\n",
    "mesh.geometries.append(geom)\n",
    "\n",
    "matnode = scene.MaterialNode(\"materialref\", mat, inputs=[])\n",
    "geomnode = scene.GeometryNode(geom, [matnode])\n",
    "node = scene.Node(\"node0\", children=[geomnode])\n",
    "\n",
    "myscene = scene.Scene(\"myscene\", [node])\n",
    "mesh.scenes.append(myscene)\n",
    "mesh.scene = myscene\n",
    "mesh.write(fname)"
   ]
  },
  {
   "cell_type": "code",
   "execution_count": 90,
   "metadata": {},
   "outputs": [],
   "source": [
    "vert_floats = np.array([[-50,  50,  50],\n",
    "                        [ 50,  50,  50],\n",
    "                        [-50, -50,  50],\n",
    "                        [ 50, -50,  50],\n",
    "                        [-50,  50, -50],\n",
    "                        [ 50,  50, -50],\n",
    "                        [-50, -50, -50],\n",
    "                        [ 50, -50, -50]])\n",
    "\n",
    "normal_floats = np.array([[ 0,  0,  1],\n",
    "                          [ 0,  0,  1],\n",
    "                          [ 0,  0,  1],\n",
    "                          [ 0,  0,  1],\n",
    "                          [ 0,  1,  0],\n",
    "                          [ 0,  1,  0],\n",
    "                          [ 0,  1,  0],\n",
    "                          [ 0,  1,  0],\n",
    "                          [ 0, -1,  0],\n",
    "                          [ 0, -1,  0],\n",
    "                          [ 0, -1,  0],\n",
    "                          [ 0, -1,  0],\n",
    "                          [-1,  0,  0],\n",
    "                          [-1,  0,  0],\n",
    "                          [-1,  0,  0],\n",
    "                          [-1,  0,  0],\n",
    "                          [ 1,  0,  0],\n",
    "                          [ 1,  0,  0],\n",
    "                          [ 1,  0,  0],\n",
    "                          [ 1,  0,  0],\n",
    "                          [ 0,  0, -1],\n",
    "                          [ 0,  0, -1],\n",
    "                          [ 0,  0, -1],\n",
    "                          [ 0,  0, -1]])\n",
    "\n",
    "indices = np.array([[ 0,  0,  2],\n",
    "                    [ 1,  3,  2],\n",
    "                    [ 0,  0,  3],\n",
    "                    [ 2,  1,  3],\n",
    "                    [ 0,  4,  1],\n",
    "                    [ 5,  5,  6],\n",
    "                    [ 0,  4,  5],\n",
    "                    [ 6,  4,  7],\n",
    "                    [ 6,  8,  7],\n",
    "                    [ 9,  3, 10],\n",
    "                    [ 6,  8,  3],\n",
    "                    [10,  2, 11],\n",
    "                    [ 0, 12,  4],\n",
    "                    [13,  6, 14],\n",
    "                    [ 0, 12,  6],\n",
    "                    [14,  2, 15],\n",
    "                    [ 3, 16,  7],\n",
    "                    [17,  5, 18],\n",
    "                    [ 3, 16,  5],\n",
    "                    [18,  1, 19],\n",
    "                    [ 5, 20,  7],\n",
    "                    [21,  6, 22],\n",
    "                    [ 5, 20,  6],\n",
    "                    [22,  4, 23]])"
   ]
  },
  {
   "cell_type": "code",
   "execution_count": 92,
   "metadata": {},
   "outputs": [],
   "source": [
    "mesh = Collada()\n",
    "effect = material.Effect(\"effect0\", [], \"phong\", diffuse=(1,0,0), specular=(0,1,0))\n",
    "mat = material.Material(\"material0\", \"mymaterial\", effect)\n",
    "mesh.effects.append(effect)\n",
    "mesh.materials.append(mat)\n",
    "\n",
    "vert_floats = np.array(vert_floats).flatten()\n",
    "normal_floats = np.array(normal_floats).flatten()\n",
    "\n",
    "vert_src = source.FloatSource(\"cubeverts-array\", np.array(vert_floats), ('X', 'Y', 'Z'))\n",
    "normal_src = source.FloatSource(\"cubenormals-array\", np.array(normal_floats), ('X', 'Y', 'Z'))\n",
    "\n",
    "geom = geometry.Geometry(mesh, \"geometry0\", \"mycube\", [vert_src, normal_src])\n",
    "\n",
    "input_list = source.InputList()\n",
    "input_list.addInput(0, 'VERTEX', \"#cubeverts-array\")\n",
    "input_list.addInput(1, 'NORMAL', \"#cubenormals-array\")\n",
    "\n",
    "indices = np.array(indices).flatten()\n",
    "\n",
    "\n",
    "triset = geom.createTriangleSet(indices, input_list, \"materialref\")\n",
    "geom.primitives.append(triset)\n",
    "mesh.geometries.append(geom)\n",
    "\n",
    "matnode = scene.MaterialNode(\"materialref\", mat, inputs=[])\n",
    "geomnode = scene.GeometryNode(geom, [matnode])\n",
    "node = scene.Node(\"node0\", children=[geomnode])\n",
    "\n",
    "myscene = scene.Scene(\"myscene\", [node])\n",
    "mesh.scenes.append(myscene)\n",
    "mesh.scene = myscene\n",
    "mesh.write(\"cube.dae\")"
   ]
  },
  {
   "cell_type": "code",
   "execution_count": null,
   "metadata": {},
   "outputs": [],
   "source": []
  }
 ],
 "metadata": {
  "kernelspec": {
   "display_name": "Python 3",
   "language": "python",
   "name": "python3"
  },
  "language_info": {
   "codemirror_mode": {
    "name": "ipython",
    "version": 3
   },
   "file_extension": ".py",
   "mimetype": "text/x-python",
   "name": "python",
   "nbconvert_exporter": "python",
   "pygments_lexer": "ipython3",
   "version": "3.7.2"
  }
 },
 "nbformat": 4,
 "nbformat_minor": 4
}
