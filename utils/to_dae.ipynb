{
 "cells": [
  {
   "cell_type": "code",
   "execution_count": 40,
   "metadata": {},
   "outputs": [],
   "source": [
    "import numpy as np\n",
    "from collada import *"
   ]
  },
  {
   "cell_type": "code",
   "execution_count": 41,
   "metadata": {},
   "outputs": [],
   "source": [
    "f = open(\"point.txt\", \"r\")\n",
    "vertices = []"
   ]
  },
  {
   "cell_type": "code",
   "execution_count": 42,
   "metadata": {},
   "outputs": [],
   "source": [
    "with open('point.txt') as f:\n",
    "    for line in f:\n",
    "        data = line.split()\n",
    "        vertices.append(np.array(data))"
   ]
  },
  {
   "cell_type": "code",
   "execution_count": 43,
   "metadata": {},
   "outputs": [],
   "source": [
    "# print(vertices)"
   ]
  },
  {
   "cell_type": "code",
   "execution_count": 44,
   "metadata": {},
   "outputs": [],
   "source": [
    "f = open(\"normal.txt\", \"r\")\n",
    "normals = []"
   ]
  },
  {
   "cell_type": "code",
   "execution_count": 45,
   "metadata": {},
   "outputs": [],
   "source": [
    "with open('normal.txt') as f:\n",
    "    for line in f:\n",
    "        data = line.split()\n",
    "        normals.append(np.array(data))"
   ]
  },
  {
   "cell_type": "code",
   "execution_count": 46,
   "metadata": {},
   "outputs": [],
   "source": [
    "# print(normals)"
   ]
  },
  {
   "cell_type": "code",
   "execution_count": 47,
   "metadata": {},
   "outputs": [],
   "source": [
    "f = open(\"triangle.txt\", \"r\")\n",
    "triangles = []"
   ]
  },
  {
   "cell_type": "code",
   "execution_count": 48,
   "metadata": {},
   "outputs": [],
   "source": [
    "with open('triangle.txt') as f:\n",
    "    for line in f:\n",
    "        data = line.split()\n",
    "        triangles.append(np.array(data))"
   ]
  },
  {
   "cell_type": "code",
   "execution_count": 49,
   "metadata": {},
   "outputs": [],
   "source": [
    "# print(triangles)"
   ]
  },
  {
   "cell_type": "code",
   "execution_count": 50,
   "metadata": {},
   "outputs": [],
   "source": [
    "fname = \"sphere0.3.dae\"\n",
    "t_vertices = np.array(vertices, dtype = np.float)\n",
    "t_normals = np.array(normals, dtype = np.float)\n",
    "triangle_indices = np.array(triangles, dtype=np.int32)"
   ]
  },
  {
   "cell_type": "code",
   "execution_count": 51,
   "metadata": {},
   "outputs": [],
   "source": [
    "# print(triangle_indices)"
   ]
  },
  {
   "cell_type": "code",
   "execution_count": 52,
   "metadata": {},
   "outputs": [],
   "source": [
    "mesh = Collada()\n",
    "effect = material.Effect(\"effect0\", [], \"phong\", diffuse=(1,0,0), specular=(0,1,0))\n",
    "mat = material.Material(\"material0\", \"mymaterial\", effect)\n",
    "mesh.effects.append(effect)\n",
    "mesh.materials.append(mat)\n",
    "\n",
    "vert_floats = np.array(t_vertices).flatten()\n",
    "normal_floats = np.array(t_normals).flatten()\n",
    "\n",
    "vert_src = source.FloatSource(\"cubeverts-array\", np.array(vert_floats), ('X', 'Y', 'Z'))\n",
    "normal_src = source.FloatSource(\"cubenormals-array\", np.array(normal_floats), ('X', 'Y', 'Z'))\n",
    "\n",
    "geom = geometry.Geometry(mesh, \"geometry0\", \"mycube\", [vert_src, normal_src])\n",
    "\n",
    "input_list = source.InputList()\n",
    "input_list.addInput(0, 'VERTEX', \"#cubeverts-array\")\n",
    "input_list.addInput(1, 'NORMAL', \"#cubenormals-array\")\n",
    "\n",
    "indices = np.hstack([triangle_indices, triangle_indices]).flatten()\n",
    "\n",
    "\n",
    "triset = geom.createTriangleSet(indices, input_list, \"materialref\")\n",
    "geom.primitives.append(triset)\n",
    "mesh.geometries.append(geom)\n",
    "\n",
    "matnode = scene.MaterialNode(\"materialref\", mat, inputs=[])\n",
    "geomnode = scene.GeometryNode(geom, [matnode])\n",
    "node = scene.Node(\"node0\", children=[geomnode])\n",
    "\n",
    "myscene = scene.Scene(\"myscene\", [node])\n",
    "mesh.scenes.append(myscene)\n",
    "mesh.scene = myscene\n",
    "mesh.write(fname)"
   ]
  },
  {
   "cell_type": "code",
   "execution_count": null,
   "metadata": {},
   "outputs": [],
   "source": []
  }
 ],
 "metadata": {
  "kernelspec": {
   "display_name": "Python 3.7.7 64-bit ('roarrs': conda)",
   "language": "python",
   "name": "python37764bitroarrscondaedd2d9df4a7e4e1fbafbdf43a3fa0ae0"
  },
  "language_info": {
   "codemirror_mode": {
    "name": "ipython",
    "version": 3
   },
   "file_extension": ".py",
   "mimetype": "text/x-python",
   "name": "python",
   "nbconvert_exporter": "python",
   "pygments_lexer": "ipython3",
   "version": "3.7.7-final"
  }
 },
 "nbformat": 4,
 "nbformat_minor": 4
}