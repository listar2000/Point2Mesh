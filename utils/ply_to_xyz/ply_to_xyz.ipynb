{
 "cells": [
  {
   "cell_type": "code",
   "execution_count": 185,
   "metadata": {},
   "outputs": [],
   "source": [
    "from plyfile import PlyData, PlyElement\n",
    "import numpy as np"
   ]
  },
  {
   "cell_type": "code",
   "execution_count": 186,
   "metadata": {},
   "outputs": [],
   "source": [
    "plydata = PlyData.read('tex.ply')"
   ]
  },
  {
   "cell_type": "code",
   "execution_count": 187,
   "metadata": {},
   "outputs": [
    {
     "data": {
      "text/plain": [
       "2"
      ]
     },
     "execution_count": 187,
     "metadata": {},
     "output_type": "execute_result"
    }
   ],
   "source": [
    "len(plydata)"
   ]
  },
  {
   "cell_type": "code",
   "execution_count": 188,
   "metadata": {},
   "outputs": [
    {
     "name": "stdout",
     "output_type": "stream",
     "text": [
      "ply\n",
      "format ascii 1.0\n",
      "comment zipper output\n",
      "element vertex 4\n",
      "property float x\n",
      "property float y\n",
      "property float z\n",
      "element face 4\n",
      "property list uchar int vertex_indices\n",
      "end_header\n"
     ]
    }
   ],
   "source": [
    "print(plydata)"
   ]
  },
  {
   "cell_type": "code",
   "execution_count": 189,
   "metadata": {},
   "outputs": [
    {
     "data": {
      "text/plain": [
       "PlyElement('vertex', (PlyProperty('x', 'float'), PlyProperty('y', 'float'), PlyProperty('z', 'float')), count=4, comments=[])"
      ]
     },
     "execution_count": 189,
     "metadata": {},
     "output_type": "execute_result"
    }
   ],
   "source": [
    "plydata['vertex']"
   ]
  },
  {
   "cell_type": "code",
   "execution_count": 190,
   "metadata": {},
   "outputs": [
    {
     "data": {
      "text/plain": [
       "(0., 1., 0.)"
      ]
     },
     "execution_count": 190,
     "metadata": {},
     "output_type": "execute_result"
    }
   ],
   "source": [
    "plydata['vertex'][1]"
   ]
  },
  {
   "cell_type": "code",
   "execution_count": 191,
   "metadata": {},
   "outputs": [
    {
     "data": {
      "text/plain": [
       "array([0, 1, 2], dtype=int32)"
      ]
     },
     "execution_count": 191,
     "metadata": {},
     "output_type": "execute_result"
    }
   ],
   "source": [
    "plydata['face'][0][0]"
   ]
  },
  {
   "cell_type": "code",
   "execution_count": 192,
   "metadata": {},
   "outputs": [],
   "source": [
    "count = 0\n",
    "for x in plydata['vertex']:\n",
    "#     print(x[0], x[1], x[2])\n",
    "#     print(str([x[0], x[1], x[2]]))\n",
    "    count += 1"
   ]
  },
  {
   "cell_type": "code",
   "execution_count": 193,
   "metadata": {},
   "outputs": [
    {
     "data": {
      "text/plain": [
       "4"
      ]
     },
     "execution_count": 193,
     "metadata": {},
     "output_type": "execute_result"
    }
   ],
   "source": [
    "count"
   ]
  },
  {
   "cell_type": "code",
   "execution_count": 194,
   "metadata": {},
   "outputs": [
    {
     "name": "stdout",
     "output_type": "stream",
     "text": [
      "[0. 0. 1.]\n",
      "[ 0.57735026 -0.57735026  0.57735026]\n",
      "[0.57735026 0.57735026 0.57735026]\n",
      "[-1.  0.  0.]\n"
     ]
    }
   ],
   "source": [
    "#calculate and store area-weighted vertex normals for future use#\n",
    "vertex_normals = np.zeros((count, 3))\n",
    "for x in plydata['face']:\n",
    "    #get indexs of vertices in the face #\n",
    "    index = x[0]\n",
    "    \n",
    "    #get corresponding vertices# \n",
    "    point_a = plydata['vertex'][index[0]]\n",
    "    point_b = plydata['vertex'][index[1]]\n",
    "    point_c = plydata['vertex'][index[2]]\n",
    "    \n",
    "    #use np to reconstruct to eliminate extra properties rather than xyz and vector calculation#\n",
    "    t_point_a = np.array([point_a[0], point_a[1], point_a[2]])\n",
    "    t_point_b = np.array([point_b[0], point_b[1], point_b[2]])\n",
    "    t_point_c = np.array([point_c[0], point_c[1], point_c[2]])\n",
    "    \n",
    "    #construct vectors in the face#\n",
    "    v1 = t_point_b - t_point_a\n",
    "    v2 = t_point_c - t_point_a\n",
    "    \n",
    "    #calculate normal and then normalize#\n",
    "    normal = np.cross(v1, v2)\n",
    "    normal = normal / (np.linalg.norm(normal))\n",
    "    print(normal)\n",
    "    \n",
    "    #add normals to relavant vertex indexs \n",
    "    vertex_normals[index[0]] += normal\n",
    "    vertex_normals[index[1]] += normal\n",
    "    vertex_normals[index[2]] += normal"
   ]
  },
  {
   "cell_type": "code",
   "execution_count": 195,
   "metadata": {},
   "outputs": [
    {
     "name": "stdout",
     "output_type": "stream",
     "text": [
      "[[ 1.15470052  0.          2.15470052]\n",
      " [-0.42264974  0.57735026  1.57735026]\n",
      " [-0.42264974 -0.57735026  1.57735026]\n",
      " [ 0.15470052  0.          1.15470052]]\n"
     ]
    }
   ],
   "source": [
    "print(vertex_normals)"
   ]
  },
  {
   "cell_type": "code",
   "execution_count": 196,
   "metadata": {},
   "outputs": [],
   "source": [
    "normalized_vector_normals = []\n",
    "for x in vertex_normals:\n",
    "    if (np.linalg.norm(x) > 0.0):\n",
    "        x = x / (np.linalg.norm(x))\n",
    "    normalized_vector_normals.append(x)"
   ]
  },
  {
   "cell_type": "code",
   "execution_count": 197,
   "metadata": {},
   "outputs": [
    {
     "name": "stdout",
     "output_type": "stream",
     "text": [
      "[array([0.47234749, 0.        , 0.88141242]), array([-0.24401694,  0.33333333,  0.9106836 ]), array([-0.24401694, -0.33333333,  0.9106836 ]), array([0.13278816, 0.        , 0.99114444])]\n"
     ]
    }
   ],
   "source": [
    "print(normalized_vector_normals)"
   ]
  },
  {
   "cell_type": "code",
   "execution_count": 198,
   "metadata": {},
   "outputs": [],
   "source": [
    "f = open(\"tex.xyz\", \"w\")"
   ]
  },
  {
   "cell_type": "code",
   "execution_count": 199,
   "metadata": {},
   "outputs": [
    {
     "data": {
      "text/plain": [
       "2"
      ]
     },
     "execution_count": 199,
     "metadata": {},
     "output_type": "execute_result"
    }
   ],
   "source": [
    "f.write(str(count) + \"\\n\")"
   ]
  },
  {
   "cell_type": "code",
   "execution_count": 200,
   "metadata": {},
   "outputs": [],
   "source": [
    "index = 0\n",
    "while (index < count):\n",
    "    f.write(str(plydata['vertex'][index][0]) + \" \")\n",
    "    f.write(str(plydata['vertex'][index][1]) + \" \")\n",
    "    f.write(str(plydata['vertex'][index][2]) + \" \")\n",
    "    f.write(str(normalized_vector_normals[index][0]) + \" \")\n",
    "    f.write(str(normalized_vector_normals[index][1]) + \" \")\n",
    "    f.write(str(normalized_vector_normals[index][2]) + \"\\n\")\n",
    "    index += 1"
   ]
  },
  {
   "cell_type": "code",
   "execution_count": null,
   "metadata": {},
   "outputs": [],
   "source": []
  },
  {
   "cell_type": "code",
   "execution_count": null,
   "metadata": {},
   "outputs": [],
   "source": []
  },
  {
   "cell_type": "code",
   "execution_count": null,
   "metadata": {},
   "outputs": [],
   "source": []
  }
 ],
 "metadata": {
  "kernelspec": {
   "display_name": "Python 3",
   "language": "python",
   "name": "python3"
  },
  "language_info": {
   "codemirror_mode": {
    "name": "ipython",
    "version": 3
   },
   "file_extension": ".py",
   "mimetype": "text/x-python",
   "name": "python",
   "nbconvert_exporter": "python",
   "pygments_lexer": "ipython3",
   "version": "3.7.2"
  }
 },
 "nbformat": 4,
 "nbformat_minor": 4
}
