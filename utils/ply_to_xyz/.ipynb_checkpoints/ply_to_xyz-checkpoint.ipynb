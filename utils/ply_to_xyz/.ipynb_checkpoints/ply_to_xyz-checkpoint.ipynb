{
 "cells": [
  {
   "cell_type": "code",
   "execution_count": 452,
   "metadata": {},
   "outputs": [],
   "source": [
    "from plyfile import PlyData, PlyElement\n",
    "import numpy as np"
   ]
  },
  {
   "cell_type": "code",
   "execution_count": 453,
   "metadata": {},
   "outputs": [],
   "source": [
    "plydata = PlyData.read('bun_zipper.ply')"
   ]
  },
  {
   "cell_type": "code",
   "execution_count": 454,
   "metadata": {},
   "outputs": [
    {
     "data": {
      "text/plain": [
       "2"
      ]
     },
     "execution_count": 454,
     "metadata": {},
     "output_type": "execute_result"
    }
   ],
   "source": [
    "len(plydata)"
   ]
  },
  {
   "cell_type": "code",
   "execution_count": 455,
   "metadata": {},
   "outputs": [
    {
     "name": "stdout",
     "output_type": "stream",
     "text": [
      "ply\n",
      "format ascii 1.0\n",
      "comment object: vertex1\n",
      "element vertex 35947\n",
      "property float x\n",
      "property float y\n",
      "property float z\n",
      "element face 69450\n",
      "property list uchar int vertex_index\n",
      "end_header\n"
     ]
    }
   ],
   "source": [
    "print(plydata)"
   ]
  },
  {
   "cell_type": "code",
   "execution_count": 456,
   "metadata": {},
   "outputs": [
    {
     "data": {
      "text/plain": [
       "PlyElement('vertex', (PlyProperty('x', 'float'), PlyProperty('y', 'float'), PlyProperty('z', 'float')), count=35947, comments=[])"
      ]
     },
     "execution_count": 456,
     "metadata": {},
     "output_type": "execute_result"
    }
   ],
   "source": [
    "plydata['vertex']"
   ]
  },
  {
   "cell_type": "code",
   "execution_count": 457,
   "metadata": {},
   "outputs": [
    {
     "data": {
      "text/plain": [
       "(-0.0447794, 0.128887, 0.00190497)"
      ]
     },
     "execution_count": 457,
     "metadata": {},
     "output_type": "execute_result"
    }
   ],
   "source": [
    "plydata['vertex'][1]"
   ]
  },
  {
   "cell_type": "code",
   "execution_count": 458,
   "metadata": {},
   "outputs": [
    {
     "data": {
      "text/plain": [
       "array([21216, 21215, 20399], dtype=int32)"
      ]
     },
     "execution_count": 458,
     "metadata": {},
     "output_type": "execute_result"
    }
   ],
   "source": [
    "plydata['face'][0][0]"
   ]
  },
  {
   "cell_type": "code",
   "execution_count": 459,
   "metadata": {},
   "outputs": [],
   "source": [
    "count = 0\n",
    "for x in plydata['vertex']:\n",
    "#     print(x[0], x[1], x[2])\n",
    "#     print(str([x[0], x[1], x[2]]))\n",
    "    count += 1"
   ]
  },
  {
   "cell_type": "code",
   "execution_count": 460,
   "metadata": {},
   "outputs": [
    {
     "data": {
      "text/plain": [
       "35947"
      ]
     },
     "execution_count": 460,
     "metadata": {},
     "output_type": "execute_result"
    }
   ],
   "source": [
    "count"
   ]
  },
  {
   "cell_type": "code",
   "execution_count": 461,
   "metadata": {},
   "outputs": [],
   "source": [
    "#calculate and store area-weighted vertex normals for future use#\n",
    "vertex_normals = np.zeros((count, 3))\n",
    "for x in plydata['face']:\n",
    "    #get indexs of vertices in the face #\n",
    "    index = x[0]\n",
    "    \n",
    "    #get corresponding vertices# \n",
    "    point_a = plydata['vertex'][index[0]]\n",
    "    point_b = plydata['vertex'][index[1]]\n",
    "    point_c = plydata['vertex'][index[2]]\n",
    "    \n",
    "    #use np to reconstruct to eliminate extra properties rather than xyz and vector calculation#\n",
    "    t_point_a = np.array([point_a[0], point_a[1], point_a[2]])\n",
    "    t_point_b = np.array([point_b[0], point_b[1], point_b[2]])\n",
    "    t_point_c = np.array([point_c[0], point_c[1], point_c[2]])\n",
    "    \n",
    "    #construct vectors in the face#\n",
    "    v1 = t_point_b - t_point_a\n",
    "    v2 = t_point_c - t_point_a\n",
    "    \n",
    "    #calculate normal and then normalize#\n",
    "    normal = np.cross(v1, v2)\n",
    "    normal = normal / (np.linalg.norm(normal))\n",
    "#     print(normal)\n",
    "    \n",
    "    #add normals to relavant vertex indexs \n",
    "    vertex_normals[index[0]] += normal\n",
    "    vertex_normals[index[1]] += normal\n",
    "    vertex_normals[index[2]] += normal"
   ]
  },
  {
   "cell_type": "code",
   "execution_count": 462,
   "metadata": {},
   "outputs": [],
   "source": [
    "# print(vertex_normals)"
   ]
  },
  {
   "cell_type": "code",
   "execution_count": 463,
   "metadata": {},
   "outputs": [],
   "source": [
    "normalized_vector_normals = []\n",
    "for x in vertex_normals:\n",
    "    if (np.linalg.norm(x) > 0.0):\n",
    "        x = x / (np.linalg.norm(x))\n",
    "    normalized_vector_normals.append(x)"
   ]
  },
  {
   "cell_type": "code",
   "execution_count": 464,
   "metadata": {},
   "outputs": [],
   "source": [
    "# print(normalized_vector_normals)"
   ]
  },
  {
   "cell_type": "code",
   "execution_count": 465,
   "metadata": {},
   "outputs": [],
   "source": [
    "# print(normalized_vector_normals[35946])"
   ]
  },
  {
   "cell_type": "code",
   "execution_count": 466,
   "metadata": {},
   "outputs": [],
   "source": [
    "# print(plydata['vertex'][35878])"
   ]
  },
  {
   "cell_type": "code",
   "execution_count": 467,
   "metadata": {},
   "outputs": [],
   "source": [
    "result = []\n",
    "i = 0\n",
    "while i < count:\n",
    "    result.append([plydata['vertex'][i], normalized_vector_normals[i]])\n",
    "    i += 1"
   ]
  },
  {
   "cell_type": "code",
   "execution_count": 468,
   "metadata": {},
   "outputs": [
    {
     "name": "stdout",
     "output_type": "stream",
     "text": [
      "0.19615082493142613\n"
     ]
    }
   ],
   "source": [
    "print(result[0][1][0])"
   ]
  },
  {
   "cell_type": "code",
   "execution_count": 469,
   "metadata": {},
   "outputs": [],
   "source": [
    "f = open(\"tex.xyz\", \"w+\")"
   ]
  },
  {
   "cell_type": "code",
   "execution_count": 470,
   "metadata": {},
   "outputs": [
    {
     "data": {
      "text/plain": [
       "6"
      ]
     },
     "execution_count": 470,
     "metadata": {},
     "output_type": "execute_result"
    }
   ],
   "source": [
    "f.write(str(count) + \"\\n\")"
   ]
  },
  {
   "cell_type": "code",
   "execution_count": 471,
   "metadata": {},
   "outputs": [],
   "source": [
    "for x in result:\n",
    "    f.write(str(x[0][0]) + \" \")\n",
    "    f.write(str(x[0][1]) + \" \")\n",
    "    f.write(str(x[0][2]) + \" \")\n",
    "    f.write(str(x[1][0]) + \" \")\n",
    "    f.write(str(x[1][1]) + \" \")\n",
    "    f.write(str(x[1][2]) + \"\\n\")"
   ]
  },
  {
   "cell_type": "code",
   "execution_count": null,
   "metadata": {},
   "outputs": [],
   "source": [
    "f.close()"
   ]
  },
  {
   "cell_type": "code",
   "execution_count": null,
   "metadata": {},
   "outputs": [],
   "source": []
  },
  {
   "cell_type": "code",
   "execution_count": null,
   "metadata": {},
   "outputs": [],
   "source": []
  }
 ],
 "metadata": {
  "kernelspec": {
   "display_name": "Python 3",
   "language": "python",
   "name": "python3"
  },
  "language_info": {
   "codemirror_mode": {
    "name": "ipython",
    "version": 3
   },
   "file_extension": ".py",
   "mimetype": "text/x-python",
   "name": "python",
   "nbconvert_exporter": "python",
   "pygments_lexer": "ipython3",
   "version": "3.7.2"
  }
 },
 "nbformat": 4,
 "nbformat_minor": 4
}
