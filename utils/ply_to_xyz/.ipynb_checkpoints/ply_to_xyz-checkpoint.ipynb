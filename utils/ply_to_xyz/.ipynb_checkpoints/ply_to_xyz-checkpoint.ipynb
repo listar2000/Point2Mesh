{
 "cells": [
  {
   "cell_type": "code",
   "execution_count": 142,
   "metadata": {},
   "outputs": [],
   "source": [
    "from plyfile import PlyData, PlyElement\n",
    "import numpy as np"
   ]
  },
  {
   "cell_type": "code",
   "execution_count": 143,
   "metadata": {},
   "outputs": [],
   "source": [
    "plydata = PlyData.read('tex.ply')"
   ]
  },
  {
   "cell_type": "code",
   "execution_count": 144,
   "metadata": {},
   "outputs": [
    {
     "data": {
      "text/plain": [
       "2"
      ]
     },
     "execution_count": 144,
     "metadata": {},
     "output_type": "execute_result"
    }
   ],
   "source": [
    "len(plydata)"
   ]
  },
  {
   "cell_type": "code",
   "execution_count": 145,
   "metadata": {},
   "outputs": [
    {
     "name": "stdout",
     "output_type": "stream",
     "text": [
      "ply\n",
      "format ascii 1.0\n",
      "comment zipper output\n",
      "element vertex 4\n",
      "property float x\n",
      "property float y\n",
      "property float z\n",
      "element face 4\n",
      "property list uchar int vertex_indices\n",
      "end_header\n"
     ]
    }
   ],
   "source": [
    "print(plydata)"
   ]
  },
  {
   "cell_type": "code",
   "execution_count": 146,
   "metadata": {},
   "outputs": [
    {
     "data": {
      "text/plain": [
       "PlyElement('vertex', (PlyProperty('x', 'float'), PlyProperty('y', 'float'), PlyProperty('z', 'float')), count=4, comments=[])"
      ]
     },
     "execution_count": 146,
     "metadata": {},
     "output_type": "execute_result"
    }
   ],
   "source": [
    "plydata['vertex']"
   ]
  },
  {
   "cell_type": "code",
   "execution_count": 147,
   "metadata": {},
   "outputs": [
    {
     "data": {
      "text/plain": [
       "(0., 1., 0.)"
      ]
     },
     "execution_count": 147,
     "metadata": {},
     "output_type": "execute_result"
    }
   ],
   "source": [
    "plydata['vertex'][1]"
   ]
  },
  {
   "cell_type": "code",
   "execution_count": 148,
   "metadata": {},
   "outputs": [
    {
     "data": {
      "text/plain": [
       "(array([0, 1, 2], dtype=int32),)"
      ]
     },
     "execution_count": 148,
     "metadata": {},
     "output_type": "execute_result"
    }
   ],
   "source": [
    "plydata['face'][0]"
   ]
  },
  {
   "cell_type": "code",
   "execution_count": 149,
   "metadata": {},
   "outputs": [
    {
     "name": "stdout",
     "output_type": "stream",
     "text": [
      "1.0 0.0 0.0\n",
      "0.0 1.0 0.0\n",
      "0.0 -1.0 0.0\n",
      "0.0 0.0 1.0\n"
     ]
    }
   ],
   "source": [
    "count = 0\n",
    "c_x = 0;\n",
    "c_y = 0;\n",
    "c_z = 0;\n",
    "for x in plydata['vertex']:\n",
    "    print(x[0], x[1], x[2])\n",
    "#     print(str([x[0], x[1], x[2]]))\n",
    "    c_x += x[0]\n",
    "    c_y += x[1]\n",
    "    c_z += x[2]\n",
    "    count += 1"
   ]
  },
  {
   "cell_type": "code",
   "execution_count": 150,
   "metadata": {},
   "outputs": [
    {
     "data": {
      "text/plain": [
       "4"
      ]
     },
     "execution_count": 150,
     "metadata": {},
     "output_type": "execute_result"
    }
   ],
   "source": [
    "count"
   ]
  },
  {
   "cell_type": "code",
   "execution_count": 151,
   "metadata": {},
   "outputs": [],
   "source": [
    "c_x = c_x / count;\n",
    "c_y = c_y / count;\n",
    "c_z = c_z / count;"
   ]
  },
  {
   "cell_type": "code",
   "execution_count": null,
   "metadata": {},
   "outputs": [],
   "source": [
    "mesh_center = np.array([c_x, c_y, c_z])"
   ]
  },
  {
   "cell_type": "code",
   "execution_count": 131,
   "metadata": {},
   "outputs": [
    {
     "name": "stdout",
     "output_type": "stream",
     "text": [
      "[0. 0. 1.]\n",
      "[ 0.57735026 -0.57735026  0.57735026]\n",
      "[0.57735026 0.57735026 0.57735026]\n",
      "[1. 0. 0.]\n"
     ]
    }
   ],
   "source": [
    "#calculate and store area-weighted vertex normals for future use#\n",
    "vertex_normals = np.zeros((count, 3))\n",
    "for x in plydata['face']:\n",
    "    #get indexs of vertices in the face #\n",
    "    index = x[0]\n",
    "    \n",
    "    #get corresponding vertices# \n",
    "    point_a = plydata['vertex'][index[0]]\n",
    "    point_b = plydata['vertex'][index[1]]\n",
    "    point_c = plydata['vertex'][index[2]]\n",
    "    \n",
    "    #use np to reconstruct to eliminate extra properties rather than xyz and vector calculation#\n",
    "    t_point_a = np.array([point_a[0], point_a[1], point_a[2]])\n",
    "    t_point_b = np.array([point_b[0], point_b[1], point_b[2]])\n",
    "    t_point_c = np.array([point_c[0], point_c[1], point_c[2]])\n",
    "    \n",
    "    #construct vectors in the face#\n",
    "    v1 = t_point_b - t_point_a\n",
    "    v2 = t_point_c - t_point_a\n",
    "    \n",
    "    #calculate normal and then normalize#\n",
    "    normal = np.cross(v1, v2)\n",
    "    normal = normal / (np.linalg.norm(normal))\n",
    "\n",
    "\n",
    "    v_t = t_point_a - np.array([0,0,0])\n",
    "    if (np.dot(v_t, normal) < 0):\n",
    "        normal =  np.negative(normal)\n",
    "    print(normal)\n",
    "    \n",
    "    #add normals to relavant vertex indexs \n",
    "    vertex_normals[index[0]] += normal\n",
    "    vertex_normals[index[1]] += normal\n",
    "    vertex_normals[index[2]] += normal"
   ]
  },
  {
   "cell_type": "code",
   "execution_count": 110,
   "metadata": {},
   "outputs": [
    {
     "name": "stdout",
     "output_type": "stream",
     "text": [
      "[[ 1.15470052  0.          2.15470052]\n",
      " [ 1.57735026  0.57735026  1.57735026]\n",
      " [ 1.57735026 -0.57735026  1.57735026]\n",
      " [ 2.15470052  0.          1.15470052]]\n"
     ]
    }
   ],
   "source": [
    "print(vertex_normals)"
   ]
  },
  {
   "cell_type": "code",
   "execution_count": 89,
   "metadata": {},
   "outputs": [],
   "source": [
    "normalized_vector_normals = []\n",
    "for x in vertex_normals:\n",
    "    if (np.linalg.norm(x) > 0.0):\n",
    "        x = x / (np.linalg.norm(x))\n",
    "    normalized_vector_normals.append(x)"
   ]
  },
  {
   "cell_type": "code",
   "execution_count": 90,
   "metadata": {},
   "outputs": [],
   "source": [
    "# print(normalized_vector_normals)"
   ]
  },
  {
   "cell_type": "code",
   "execution_count": 91,
   "metadata": {},
   "outputs": [],
   "source": [
    "# print(normalized_vector_normals[35946])"
   ]
  },
  {
   "cell_type": "code",
   "execution_count": 92,
   "metadata": {},
   "outputs": [],
   "source": [
    "# print(plydata['vertex'][35878])"
   ]
  },
  {
   "cell_type": "code",
   "execution_count": 93,
   "metadata": {},
   "outputs": [],
   "source": [
    "result = []\n",
    "i = 0\n",
    "while i < count:\n",
    "    result.append([plydata['vertex'][i], normalized_vector_normals[i]])\n",
    "    i += 1"
   ]
  },
  {
   "cell_type": "code",
   "execution_count": 94,
   "metadata": {},
   "outputs": [
    {
     "name": "stdout",
     "output_type": "stream",
     "text": [
      "-0.05376114510347699\n"
     ]
    }
   ],
   "source": [
    "print(result[0][1][0])"
   ]
  },
  {
   "cell_type": "code",
   "execution_count": 95,
   "metadata": {},
   "outputs": [],
   "source": [
    "f = open(\"Armadillo.xyz\", \"w+\")"
   ]
  },
  {
   "cell_type": "code",
   "execution_count": 96,
   "metadata": {},
   "outputs": [
    {
     "data": {
      "text/plain": [
       "7"
      ]
     },
     "execution_count": 96,
     "metadata": {},
     "output_type": "execute_result"
    }
   ],
   "source": [
    "f.write(str(count) + \"\\n\")"
   ]
  },
  {
   "cell_type": "code",
   "execution_count": 97,
   "metadata": {},
   "outputs": [],
   "source": [
    "for x in result:\n",
    "    f.write(str(x[0][0]) + \" \")\n",
    "    f.write(str(x[0][1]) + \" \")\n",
    "    f.write(str(x[0][2]) + \" \")\n",
    "    f.write(str(x[1][0]) + \" \")\n",
    "    f.write(str(x[1][1]) + \" \")\n",
    "    f.write(str(x[1][2]) + \"\\n\")"
   ]
  },
  {
   "cell_type": "code",
   "execution_count": 98,
   "metadata": {},
   "outputs": [],
   "source": [
    "f.close()"
   ]
  },
  {
   "cell_type": "code",
   "execution_count": null,
   "metadata": {},
   "outputs": [],
   "source": []
  },
  {
   "cell_type": "code",
   "execution_count": null,
   "metadata": {},
   "outputs": [],
   "source": []
  }
 ],
 "metadata": {
  "kernelspec": {
   "display_name": "Python 3",
   "language": "python",
   "name": "python3"
  },
  "language_info": {
   "codemirror_mode": {
    "name": "ipython",
    "version": 3
   },
   "file_extension": ".py",
   "mimetype": "text/x-python",
   "name": "python",
   "nbconvert_exporter": "python",
   "pygments_lexer": "ipython3",
   "version": "3.7.2"
  }
 },
 "nbformat": 4,
 "nbformat_minor": 4
}
