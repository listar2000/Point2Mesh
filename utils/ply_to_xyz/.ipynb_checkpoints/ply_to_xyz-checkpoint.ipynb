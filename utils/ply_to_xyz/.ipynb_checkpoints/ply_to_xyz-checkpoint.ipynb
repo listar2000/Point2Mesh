{
 "cells": [
  {
   "cell_type": "code",
   "execution_count": 1,
   "metadata": {},
   "outputs": [],
   "source": [
    "from plyfile import PlyData, PlyElement\n",
    "import numpy as np"
   ]
  },
  {
   "cell_type": "code",
   "execution_count": null,
   "metadata": {},
   "outputs": [],
   "source": [
    "plydata = PlyData.read('dragon_vrip.ply')"
   ]
  },
  {
   "cell_type": "code",
   "execution_count": null,
   "metadata": {},
   "outputs": [],
   "source": [
    "len(plydata)"
   ]
  },
  {
   "cell_type": "code",
   "execution_count": null,
   "metadata": {},
   "outputs": [],
   "source": [
    "print(plydata)"
   ]
  },
  {
   "cell_type": "code",
   "execution_count": null,
   "metadata": {},
   "outputs": [],
   "source": [
    "plydata['vertex']"
   ]
  },
  {
   "cell_type": "code",
   "execution_count": null,
   "metadata": {},
   "outputs": [],
   "source": [
    "plydata['vertex'][1]"
   ]
  },
  {
   "cell_type": "code",
   "execution_count": null,
   "metadata": {},
   "outputs": [],
   "source": [
    "plydata['face'][0]"
   ]
  },
  {
   "cell_type": "code",
   "execution_count": null,
   "metadata": {},
   "outputs": [],
   "source": [
    "count = 0\n",
    "c_x = 0;\n",
    "c_y = 0;\n",
    "c_z = 0;\n",
    "for x in plydata['vertex']:\n",
    "#     print(x[0], x[1], x[2])\n",
    "#     print(str([x[0], x[1], x[2]]))\n",
    "    c_x += x[0]\n",
    "    c_y += x[1]\n",
    "    c_z += x[2]\n",
    "    count += 1"
   ]
  },
  {
   "cell_type": "code",
   "execution_count": null,
   "metadata": {},
   "outputs": [],
   "source": [
    "count"
   ]
  },
  {
   "cell_type": "code",
   "execution_count": null,
   "metadata": {},
   "outputs": [],
   "source": [
    "c_x = c_x / count;\n",
    "c_y = c_y / count;\n",
    "c_z = c_z / count;"
   ]
  },
  {
   "cell_type": "code",
   "execution_count": null,
   "metadata": {},
   "outputs": [],
   "source": [
    "mesh_center = np.array([c_x, c_y, c_z])"
   ]
  },
  {
   "cell_type": "code",
   "execution_count": null,
   "metadata": {},
   "outputs": [],
   "source": [
    "print(mesh_center)"
   ]
  },
  {
   "cell_type": "code",
   "execution_count": 15,
   "metadata": {},
   "outputs": [
    {
     "name": "stdout",
     "output_type": "stream",
     "text": [
      "[-0. -0. -1.]\n",
      "[-0. -0. -1.]\n",
      "[-0. -1. -0.]\n",
      "[-0. -1. -0.]\n",
      "[1. 0. 0.]\n",
      "[ 1. -0.  0.]\n",
      "[0. 0. 1.]\n",
      "[0. 0. 1.]\n",
      "[-1. -0. -0.]\n",
      "[-1.  0. -0.]\n",
      "[0. 1. 0.]\n",
      "[0. 1. 0.]\n"
     ]
    }
   ],
   "source": [
    "#calculate and store area-weighted vertex normals for future use#\n",
    "vertex_normals = np.zeros((count, 3))\n",
    "for x in plydata['face']:\n",
    "    #get indexs of vertices in the face #\n",
    "    index = x[0]\n",
    "    \n",
    "    #get corresponding vertices# \n",
    "    point_a = plydata['vertex'][index[0]]\n",
    "    point_b = plydata['vertex'][index[1]]\n",
    "    point_c = plydata['vertex'][index[2]]\n",
    "    \n",
    "    #use np to reconstruct to eliminate extra properties rather than xyz and vector calculation#\n",
    "    t_point_a = np.array([point_a[0], point_a[1], point_a[2]])\n",
    "    t_point_b = np.array([point_b[0], point_b[1], point_b[2]])\n",
    "    t_point_c = np.array([point_c[0], point_c[1], point_c[2]])\n",
    "    \n",
    "    #construct vectors in the face#\n",
    "    v1 = t_point_b - t_point_a\n",
    "    v2 = t_point_c - t_point_a\n",
    "    \n",
    "    #calculate normal and then normalize#\n",
    "    normal = np.cross(v1, v2)\n",
    "    normal = normal / (np.linalg.norm(normal))\n",
    "\n",
    "\n",
    "    v_t = t_point_a - mesh_center\n",
    "#     if (np.dot(v_t, normal) < 0):\n",
    "#         normal =  np.negative(normal)\n",
    "#     print(normal)\n",
    "    \n",
    "    #add normals to relavant vertex indexs \n",
    "    vertex_normals[index[0]] += normal\n",
    "    vertex_normals[index[1]] += normal\n",
    "    vertex_normals[index[2]] += normal"
   ]
  },
  {
   "cell_type": "code",
   "execution_count": 16,
   "metadata": {},
   "outputs": [
    {
     "name": "stdout",
     "output_type": "stream",
     "text": [
      "[[-1. -2. -2.]\n",
      " [ 1. -1. -1.]\n",
      " [-2.  2. -1.]\n",
      " [ 2.  1. -2.]\n",
      " [-2. -1.  2.]\n",
      " [ 2. -2.  1.]\n",
      " [-1.  1.  1.]\n",
      " [ 1.  2.  2.]]\n"
     ]
    }
   ],
   "source": [
    "print(vertex_normals)"
   ]
  },
  {
   "cell_type": "code",
   "execution_count": 17,
   "metadata": {},
   "outputs": [],
   "source": [
    "normalized_vector_normals = []\n",
    "for x in vertex_normals:\n",
    "    if (np.linalg.norm(x) > 0.0):\n",
    "        x = x / (np.linalg.norm(x))\n",
    "    normalized_vector_normals.append(x)"
   ]
  },
  {
   "cell_type": "code",
   "execution_count": 18,
   "metadata": {},
   "outputs": [
    {
     "name": "stdout",
     "output_type": "stream",
     "text": [
      "[array([-0.33333333, -0.66666667, -0.66666667]), array([ 0.57735027, -0.57735027, -0.57735027]), array([-0.66666667,  0.66666667, -0.33333333]), array([ 0.66666667,  0.33333333, -0.66666667]), array([-0.66666667, -0.33333333,  0.66666667]), array([ 0.66666667, -0.66666667,  0.33333333]), array([-0.57735027,  0.57735027,  0.57735027]), array([0.33333333, 0.66666667, 0.66666667])]\n"
     ]
    }
   ],
   "source": [
    "print(normalized_vector_normals)"
   ]
  },
  {
   "cell_type": "code",
   "execution_count": 19,
   "metadata": {},
   "outputs": [],
   "source": [
    "# print(normalized_vector_normals[35946])"
   ]
  },
  {
   "cell_type": "code",
   "execution_count": 20,
   "metadata": {},
   "outputs": [],
   "source": [
    "# print(plydata['vertex'][35878])"
   ]
  },
  {
   "cell_type": "code",
   "execution_count": 21,
   "metadata": {},
   "outputs": [],
   "source": [
    "result = []\n",
    "i = 0\n",
    "while i < count:\n",
    "    result.append([plydata['vertex'][i], normalized_vector_normals[i]])\n",
    "    i += 1"
   ]
  },
  {
   "cell_type": "code",
   "execution_count": 22,
   "metadata": {},
   "outputs": [
    {
     "name": "stdout",
     "output_type": "stream",
     "text": [
      "-0.3333333333333333\n"
     ]
    }
   ],
   "source": [
    "print(result[0][1][0])"
   ]
  },
  {
   "cell_type": "code",
   "execution_count": 23,
   "metadata": {},
   "outputs": [],
   "source": [
    "f = open(\"cube.xyz\", \"w+\")"
   ]
  },
  {
   "cell_type": "code",
   "execution_count": 24,
   "metadata": {},
   "outputs": [
    {
     "data": {
      "text/plain": [
       "2"
      ]
     },
     "execution_count": 24,
     "metadata": {},
     "output_type": "execute_result"
    }
   ],
   "source": [
    "f.write(str(count) + \"\\n\")"
   ]
  },
  {
   "cell_type": "code",
   "execution_count": 25,
   "metadata": {},
   "outputs": [],
   "source": [
    "for x in result:\n",
    "    f.write(str(x[0][0]) + \" \")\n",
    "    f.write(str(x[0][1]) + \" \")\n",
    "    f.write(str(x[0][2]) + \" \")\n",
    "    f.write(str(x[1][0]) + \" \")\n",
    "    f.write(str(x[1][1]) + \" \")\n",
    "    f.write(str(x[1][2]) + \"\\n\")"
   ]
  },
  {
   "cell_type": "code",
   "execution_count": 26,
   "metadata": {},
   "outputs": [],
   "source": [
    "f.close()"
   ]
  },
  {
   "cell_type": "code",
   "execution_count": null,
   "metadata": {},
   "outputs": [],
   "source": []
  },
  {
   "cell_type": "code",
   "execution_count": null,
   "metadata": {},
   "outputs": [],
   "source": []
  }
 ],
 "metadata": {
  "kernelspec": {
   "display_name": "Python 3",
   "language": "python",
   "name": "python3"
  },
  "language_info": {
   "codemirror_mode": {
    "name": "ipython",
    "version": 3
   },
   "file_extension": ".py",
   "mimetype": "text/x-python",
   "name": "python",
   "nbconvert_exporter": "python",
   "pygments_lexer": "ipython3",
   "version": "3.7.2"
  }
 },
 "nbformat": 4,
 "nbformat_minor": 4
}
